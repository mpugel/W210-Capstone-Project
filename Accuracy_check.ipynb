{
 "cells": [
  {
   "cell_type": "code",
   "execution_count": 1,
   "metadata": {},
   "outputs": [],
   "source": [
    "# imports\n",
    "import pickle\n",
    "import pandas as pd"
   ]
  },
  {
   "cell_type": "code",
   "execution_count": 2,
   "metadata": {},
   "outputs": [],
   "source": [
    "# # function to get image supergroup in test.txt\n",
    "# def image_supergroup(idx,filepath):\n",
    "#     \"\"\"given an index and a filepath, find the supergroup of the image\"\"\"\n",
    "#     with open(filepath) as f:\n",
    "#         lines = f.readlines()\n",
    "#         # each line reads superclas_final/class_id.JPG,image_id\n",
    "#     try:\n",
    "#         super_class = lines[idx].split('/')[0] # everything up to first slash\n",
    "#     except IndexError:\n",
    "#         print(filepath,idx)\n",
    "#     return super_class\n",
    "# # function to get nn idxs\n",
    "# def get_nn_idxs(idx,nn_path,nn):\n",
    "#     \"\"\"given an index and a filepath, find the original 100 nn indexes of the image\"\"\"\n",
    "#     nn_matrix = pickle.load(open(nn_path, 'rb'))\n",
    "#     return nn_matrix[idx][:nn]\n",
    "\n",
    "# # function to find all superclasses of nn\n",
    "# def super_class_count(train_path,test_path,nn_path,idx,nn):\n",
    "#     # initialize counter\n",
    "#     correct_pred_count = 0\n",
    "#     super_class = image_supergroup(idx,test_path)\n",
    "#     # print('actual class: ',super_class)\n",
    "#     nn_idxs = get_nn_idxs(idx,nn_path,nn)\n",
    "#     for i in nn_idxs:\n",
    "#         # print('predicted class of ',i,'th neighbor: ', image_supergroup(i,train_path))\n",
    "#         pred_super_class = image_supergroup(i,train_path)\n",
    "#         if pred_super_class == super_class:\n",
    "#             correct_pred_count += 1\n",
    "#     return(correct_pred_count)\n",
    "            \n",
    "        \n",
    "              \n",
    "\n",
    "# # function to check accuracy\n",
    "# def calc_accuracy(idx,test_path,train_path,orig_nn_path,rerank_nn_path,nn):\n",
    "#     # initialize dict\n",
    "#     accuracy_dict = {}\n",
    "#     accuracy_dict.update({\"test_index\":idx,\n",
    "#                         \"level\":nn})\n",
    "#     # find super class\n",
    "#     super_class = image_supergroup(idx,test_path)\n",
    "#     accuracy_dict.update({\"super_class\": super_class})\n",
    "    \n",
    "#     # calc orig correct_count\n",
    "#     orig_correct_count = super_class_count(train_path,test_path,orig_nn_path,idx,nn)\n",
    "#     accuracy_dict.update({\"orig_correct_count\":orig_correct_count})\n",
    "    \n",
    "#     # calc rerank correct_count\n",
    "#     rerank_correct_count = super_class_count(train_path,test_path,rerank_nn_path,idx,nn)\n",
    "#     accuracy_dict.update({\"rerank_correct_count\":rerank_correct_count})\n",
    "#     # create dict (test_idx: n, superclass: x, orig_nn_correct_count, rerank_nn_correct_count)\n",
    "#     return(accuracy_dict)\n",
    "\n",
    "# # verify we get same results as cout.txt\n"
   ]
  },
  {
   "cell_type": "code",
   "execution_count": 3,
   "metadata": {},
   "outputs": [],
   "source": [
    "# train_path = './RerankingTransformer/RRT_SOP/data/Stanford_Online_Products/train.txt'\n",
    "# test_path = './RerankingTransformer/RRT_SOP/data/Stanford_Online_Products/test.txt'\n",
    "# orig_nn_path = './RerankingTransformer/RRT_SOP/logs/eval_rerank_frozen_r50/nn_inds.pkl'\n",
    "# rerank_nn_path = './RerankingTransformer/RRT_SOP/rrt_sop_caches/rrt_r50_sop_nn_inds_test.pkl'\n",
    "# idx = 1000\n",
    "# nn = [1,10]\n",
    "# # calc_accuracy(idx,test_path,train_path,orig_nn_path,rerank_nn_path,nn)\n",
    "\n",
    "# # iterate through\n",
    "# dict_list = []\n",
    "\n",
    "# for i in range(0,60502):\n",
    "#     print(i)\n",
    "#     for n in nn:\n",
    "#         dict_list.append(calc_accuracy(i,test_path,test_path,orig_nn_path,rerank_nn_path,n))\n",
    "        \n",
    "# accuracy_df = pd.DataFrame(dict_list)\n",
    "\n",
    "# accuracy_df.to_csv('./reranking_accuracy.csv')"
   ]
  },
  {
   "cell_type": "code",
   "execution_count": 4,
   "metadata": {},
   "outputs": [],
   "source": [
    "# image_supergroup(113,train_path)"
   ]
  },
  {
   "cell_type": "code",
   "execution_count": 5,
   "metadata": {},
   "outputs": [],
   "source": [
    "# accuracy_df = pd.DataFrame(dict_list)\n",
    "# sum(accuracy_df.rerank_correct_count)"
   ]
  },
  {
   "cell_type": "code",
   "execution_count": 6,
   "metadata": {},
   "outputs": [],
   "source": [
    "# train_path = './RerankingTransformer/RRT_SOP/data/Stanford_Online_Products/train.txt'\n",
    "# test_path = './RerankingTransformer/RRT_SOP/data/Stanford_Online_Products/test.txt'\n",
    "# nn_path = './RerankingTransformer/RRT_SOP/logs/eval_rerank_frozen_r50/nn_inds.pkl'\n",
    "# idx = 1\n",
    "# nn = 100\n",
    "\n",
    "# super_class_count(train_path,test_path,nn_path,idx,nn)"
   ]
  },
  {
   "cell_type": "code",
   "execution_count": 7,
   "metadata": {},
   "outputs": [],
   "source": [
    "# filepath = './RerankingTransformer/RRT_SOP/data/Stanford_Online_Products/test.txt'\n",
    "# idx = 0\n",
    "\n",
    "# image_supergroup(idx,filepath)"
   ]
  },
  {
   "cell_type": "code",
   "execution_count": 8,
   "metadata": {},
   "outputs": [],
   "source": [
    "# nn_path = './RerankingTransformer/RRT_SOP/logs/eval_rerank_frozen_r50/nn_inds.pkl'\n",
    "# idx = 0\n",
    "# nn = 100\n",
    "\n",
    "# get_nn_idxs(idx,nn_path,nn)\n",
    "\n"
   ]
  },
  {
   "cell_type": "code",
   "execution_count": 9,
   "metadata": {},
   "outputs": [],
   "source": [
    "# nn_path = './RerankingTransformer/RRT_SOP/rrt_sop_caches/rrt_r50_sop_nn_inds_test.pkl'\n",
    "# idx = 113\n",
    "# nn = 100\n",
    "\n",
    "# get_nn_idxs(idx,nn_path,nn)"
   ]
  },
  {
   "cell_type": "code",
   "execution_count": 10,
   "metadata": {},
   "outputs": [
    {
     "data": {
      "text/plain": [
       "60502"
      ]
     },
     "execution_count": 10,
     "metadata": {},
     "output_type": "execute_result"
    }
   ],
   "source": [
    "# create df from test.txt\n",
    "def read_data(test_path):\n",
    "    df = pd.read_csv(test_path,sep = \",\",header = None)\n",
    "    df.columns = [\"FILE\",\"CLASS\"]\n",
    "    file_split = df[\"FILE\"].str.split(\"/\", n=1, expand = True)\n",
    "    df['SUPER_CLASS'] = file_split[0]\n",
    "    return df\n",
    "\n",
    "test_path = './RerankingTransformer/RRT_SOP/data/Stanford_Online_Products/test.txt'\n",
    "df = read_data(test_path)\n",
    "len(df)\n",
    "# data = pd.read_csv('./RerankingTransformer/RRT_SOP/data/Stanford_Online_Products/test.txt', sep=\",\", header=None)\n",
    "# data.columns = [\"FILE\",\"CLASS\"]\n",
    "# # data['SUPER_CLASS'] = data['FILE'].str.split('/')\n",
    "# new = data[\"FILE\"].str.split(\"/\", n = 1, expand = True)\n",
    "# data['SUPER_CLASS'] = new[0]\n",
    "# data.reset_index(level=0, inplace=True)\n",
    "# data.head()"
   ]
  },
  {
   "cell_type": "code",
   "execution_count": 11,
   "metadata": {},
   "outputs": [],
   "source": [
    "# read nn file\n",
    "def read_nn(nn_path):\n",
    "    nn_idxs = pickle.load(open(nn_path, 'rb'))\n",
    "    return nn_idxs\n",
    "nn_path = './RerankingTransformer/RRT_SOP/rrt_sop_caches/rrt_r50_sop_nn_inds_test.pkl'\n",
    "nn_idxs = read_nn('./RerankingTransformer/RRT_SOP/rrt_sop_caches/rrt_r50_sop_nn_inds_test.pkl')\n",
    "# test = pickle.load(open(nn_path, 'rb'))\n",
    "# test.shape\n",
    "# test[0,:100]\n"
   ]
  },
  {
   "cell_type": "code",
   "execution_count": 12,
   "metadata": {},
   "outputs": [],
   "source": [
    "test_path = './RerankingTransformer/RRT_SOP/data/Stanford_Online_Products/test.txt'\n",
    "data_df = read_data(test_path)\n",
    "\n",
    "orig_nn_path = './RerankingTransformer/RRT_SOP/rrt_sop_caches/rrt_r50_sop_nn_inds_test.pkl'\n",
    "orig_nn_idxs = read_nn('./RerankingTransformer/RRT_SOP/rrt_sop_caches/rrt_r50_sop_nn_inds_test.pkl')\n",
    "\n",
    "\n",
    "rerank_nn_path = './RerankingTransformer/RRT_SOP/logs/eval_rerank_frozen_r50/nn_inds.pkl'\n",
    "rerank_nn_idxs = read_nn('./RerankingTransformer/RRT_SOP/logs/eval_rerank_frozen_r50/nn_inds.pkl')\n",
    "\n",
    "def correct_count(idx,data_df,nn_idxs,level):\n",
    "    super_class = data_df['SUPER_CLASS'][idx]\n",
    "    pred_class = data_df['SUPER_CLASS'][nn_idxs[idx,:level]]\n",
    "    return len([i for i in pred_class if i == super_class])\n",
    "\n"
   ]
  },
  {
   "cell_type": "code",
   "execution_count": 13,
   "metadata": {},
   "outputs": [],
   "source": [
    "# function to check accuracy\n",
    "def calc_accuracy(test_path,orig_nn_path,rerank_nn_path,levels):\n",
    "    # read data\n",
    "    data_df = read_data(test_path)\n",
    "    \n",
    "    orig_nn_idxs = read_nn(orig_nn_path)\n",
    "    rerank_nn_idxs = read_nn(rerank_nn_path)\n",
    "    dict_list = []\n",
    "    for idx in range(len(data_df)):\n",
    "        if idx % 1000 == 0:\n",
    "            print('idx',idx)\n",
    "        for lvl in levels:\n",
    "            \n",
    "            # initialize dict\n",
    "            accuracy_dict = {}\n",
    "            accuracy_dict.update({\"test_index\":idx,\n",
    "                                 \"level\":lvl})\n",
    "            # find super class\n",
    "            super_class = data_df['SUPER_CLASS'][idx]\n",
    "            accuracy_dict.update({\"super_class\": super_class})\n",
    "\n",
    "            # calc orig correct_count\n",
    "            orig_correct_count = correct_count(idx,data_df,orig_nn_idxs,lvl)\n",
    "            accuracy_dict.update({\"orig_correct_count\":orig_correct_count})\n",
    "\n",
    "            # calc rerank correct_count\n",
    "            rerank_correct_count = correct_count(idx,data_df,rerank_nn_idxs,lvl)\n",
    "            accuracy_dict.update({\"rerank_correct_count\":rerank_correct_count})\n",
    "            \n",
    "            dict_list.append(accuracy_dict)\n",
    "            \n",
    "            accuracy_df = pd.DataFrame(dict_list)\n",
    "    \n",
    "    # create dict (test_idx: n, superclass: x, orig_nn_correct_count, rerank_nn_correct_count)\n",
    "    return(accuracy_df)"
   ]
  },
  {
   "cell_type": "code",
   "execution_count": null,
   "metadata": {},
   "outputs": [],
   "source": [
    "levels = [1,10,100]\n",
    "orig_nn_path = './RerankingTransformer/RRT_SOP/rrt_sop_caches/rrt_r50_sop_nn_inds_test.pkl'\n",
    "rerank_nn_path = './RerankingTransformer/RRT_SOP/logs/eval_rerank_frozen_r50/nn_inds.pkl'\n",
    "\n",
    "df = calc_accuracy(test_path,orig_nn_path,rerank_nn_path,levels)\n",
    "\n",
    "df.to_csv('./reranking_accuracy.csv')\n"
   ]
  },
  {
   "cell_type": "code",
   "execution_count": 5,
   "metadata": {},
   "outputs": [
    {
     "data": {
      "text/html": [
       "<div>\n",
       "<style scoped>\n",
       "    .dataframe tbody tr th:only-of-type {\n",
       "        vertical-align: middle;\n",
       "    }\n",
       "\n",
       "    .dataframe tbody tr th {\n",
       "        vertical-align: top;\n",
       "    }\n",
       "\n",
       "    .dataframe thead th {\n",
       "        text-align: right;\n",
       "    }\n",
       "</style>\n",
       "<table border=\"1\" class=\"dataframe\">\n",
       "  <thead>\n",
       "    <tr style=\"text-align: right;\">\n",
       "      <th></th>\n",
       "      <th>test_index</th>\n",
       "      <th>level</th>\n",
       "      <th>super_class</th>\n",
       "      <th>orig_correct_count</th>\n",
       "      <th>rerank_correct_count</th>\n",
       "    </tr>\n",
       "  </thead>\n",
       "  <tbody>\n",
       "    <tr>\n",
       "      <th>0</th>\n",
       "      <td>0</td>\n",
       "      <td>1</td>\n",
       "      <td>bicycle_final</td>\n",
       "      <td>1</td>\n",
       "      <td>1</td>\n",
       "    </tr>\n",
       "    <tr>\n",
       "      <th>1</th>\n",
       "      <td>0</td>\n",
       "      <td>10</td>\n",
       "      <td>bicycle_final</td>\n",
       "      <td>10</td>\n",
       "      <td>10</td>\n",
       "    </tr>\n",
       "    <tr>\n",
       "      <th>2</th>\n",
       "      <td>0</td>\n",
       "      <td>100</td>\n",
       "      <td>bicycle_final</td>\n",
       "      <td>98</td>\n",
       "      <td>98</td>\n",
       "    </tr>\n",
       "    <tr>\n",
       "      <th>3</th>\n",
       "      <td>1</td>\n",
       "      <td>1</td>\n",
       "      <td>bicycle_final</td>\n",
       "      <td>1</td>\n",
       "      <td>1</td>\n",
       "    </tr>\n",
       "    <tr>\n",
       "      <th>4</th>\n",
       "      <td>1</td>\n",
       "      <td>10</td>\n",
       "      <td>bicycle_final</td>\n",
       "      <td>10</td>\n",
       "      <td>10</td>\n",
       "    </tr>\n",
       "  </tbody>\n",
       "</table>\n",
       "</div>"
      ],
      "text/plain": [
       "   test_index  level    super_class  orig_correct_count  rerank_correct_count\n",
       "0           0      1  bicycle_final                   1                     1\n",
       "1           0     10  bicycle_final                  10                    10\n",
       "2           0    100  bicycle_final                  98                    98\n",
       "3           1      1  bicycle_final                   1                     1\n",
       "4           1     10  bicycle_final                  10                    10"
      ]
     },
     "execution_count": 5,
     "metadata": {},
     "output_type": "execute_result"
    }
   ],
   "source": [
    "df = pd.read_csv('./reranking_accuracy.csv', index_col=0)\n",
    "df.head()"
   ]
  },
  {
   "cell_type": "code",
   "execution_count": 23,
   "metadata": {},
   "outputs": [
    {
     "name": "stdout",
     "output_type": "stream",
     "text": [
      "Percision@1 by class\n"
     ]
    },
    {
     "data": {
      "text/plain": [
       "super_class\n",
       "bicycle_final         0.981665\n",
       "cabinet_final         0.943569\n",
       "chair_final           0.920013\n",
       "coffee_maker_final    0.924889\n",
       "fan_final             0.914419\n",
       "kettle_final          0.942168\n",
       "lamp_final            0.925153\n",
       "mug_final             0.968238\n",
       "sofa_final            0.937358\n",
       "stapler_final         0.954217\n",
       "table_final           0.909897\n",
       "toaster_final         0.920358\n",
       "Name: orig_correct_count, dtype: float64"
      ]
     },
     "execution_count": 23,
     "metadata": {},
     "output_type": "execute_result"
    }
   ],
   "source": [
    "# P@1 \n",
    "print('Percision@1 by class')\n",
    "df.loc[df.level == 1].groupby(df.super_class).orig_correct_count.sum()/df.loc[df.level == 1].groupby(df.super_class).orig_correct_count.count()\n",
    "\n"
   ]
  },
  {
   "cell_type": "code",
   "execution_count": 27,
   "metadata": {},
   "outputs": [
    {
     "name": "stdout",
     "output_type": "stream",
     "text": [
      "Percision@10 by class\n"
     ]
    },
    {
     "data": {
      "text/plain": [
       "super_class\n",
       "bicycle_final         0.954692\n",
       "cabinet_final         0.825177\n",
       "chair_final           0.701976\n",
       "coffee_maker_final    0.761999\n",
       "fan_final             0.755911\n",
       "kettle_final          0.773378\n",
       "lamp_final            0.767539\n",
       "mug_final             0.852951\n",
       "sofa_final            0.785653\n",
       "stapler_final         0.753322\n",
       "table_final           0.616885\n",
       "toaster_final         0.665251\n",
       "Name: orig_correct_count, dtype: float64"
      ]
     },
     "execution_count": 27,
     "metadata": {},
     "output_type": "execute_result"
    }
   ],
   "source": [
    "# P@10 \n",
    "print('Percision@10 by class')\n",
    "df.loc[df.level == 10].groupby(df.super_class).orig_correct_count.sum()/df.loc[df.level == 10].groupby(df.super_class).orig_correct_count.count()/10\n",
    "\n"
   ]
  },
  {
   "cell_type": "code",
   "execution_count": 17,
   "metadata": {},
   "outputs": [
    {
     "data": {
      "text/plain": [
       "super_class\n",
       "bicycle_final         0.955850\n",
       "cabinet_final         0.900482\n",
       "chair_final           0.871988\n",
       "coffee_maker_final    0.856143\n",
       "fan_final             0.847486\n",
       "kettle_final          0.905705\n",
       "lamp_final            0.860745\n",
       "mug_final             0.947788\n",
       "sofa_final            0.903006\n",
       "stapler_final         0.923613\n",
       "table_final           0.845690\n",
       "toaster_final         0.865963\n",
       "Name: rerank_correct_count, dtype: float64"
      ]
     },
     "execution_count": 17,
     "metadata": {},
     "output_type": "execute_result"
    }
   ],
   "source": [
    "# P@1 \n",
    "df.loc[df.level == 1].groupby(df.super_class).rerank_correct_count.sum()/df.loc[df.level == 1].groupby(df.super_class).rerank_correct_count.count()\n"
   ]
  },
  {
   "cell_type": "code",
   "execution_count": 20,
   "metadata": {},
   "outputs": [
    {
     "data": {
      "text/plain": [
       "464409"
      ]
     },
     "execution_count": 20,
     "metadata": {},
     "output_type": "execute_result"
    }
   ],
   "source": [
    "df.loc[df.level == 10].orig_correct_count.sum()\n"
   ]
  },
  {
   "cell_type": "code",
   "execution_count": 21,
   "metadata": {},
   "outputs": [],
   "source": [
    "df['orig_r_precision'] = df['orig_correct_count']/df['level']\n"
   ]
  },
  {
   "cell_type": "code",
   "execution_count": 22,
   "metadata": {},
   "outputs": [
    {
     "data": {
      "text/html": [
       "<div>\n",
       "<style scoped>\n",
       "    .dataframe tbody tr th:only-of-type {\n",
       "        vertical-align: middle;\n",
       "    }\n",
       "\n",
       "    .dataframe tbody tr th {\n",
       "        vertical-align: top;\n",
       "    }\n",
       "\n",
       "    .dataframe thead th {\n",
       "        text-align: right;\n",
       "    }\n",
       "</style>\n",
       "<table border=\"1\" class=\"dataframe\">\n",
       "  <thead>\n",
       "    <tr style=\"text-align: right;\">\n",
       "      <th></th>\n",
       "      <th>test_index</th>\n",
       "      <th>level</th>\n",
       "      <th>super_class</th>\n",
       "      <th>orig_correct_count</th>\n",
       "      <th>rerank_correct_count</th>\n",
       "      <th>orig_r_precision</th>\n",
       "    </tr>\n",
       "  </thead>\n",
       "  <tbody>\n",
       "    <tr>\n",
       "      <th>78947</th>\n",
       "      <td>26315</td>\n",
       "      <td>100</td>\n",
       "      <td>kettle_final</td>\n",
       "      <td>26</td>\n",
       "      <td>26</td>\n",
       "      <td>0.26</td>\n",
       "    </tr>\n",
       "    <tr>\n",
       "      <th>94283</th>\n",
       "      <td>31427</td>\n",
       "      <td>100</td>\n",
       "      <td>lamp_final</td>\n",
       "      <td>100</td>\n",
       "      <td>100</td>\n",
       "      <td>1.00</td>\n",
       "    </tr>\n",
       "    <tr>\n",
       "      <th>176585</th>\n",
       "      <td>58861</td>\n",
       "      <td>100</td>\n",
       "      <td>toaster_final</td>\n",
       "      <td>38</td>\n",
       "      <td>38</td>\n",
       "      <td>0.38</td>\n",
       "    </tr>\n",
       "    <tr>\n",
       "      <th>88778</th>\n",
       "      <td>29592</td>\n",
       "      <td>100</td>\n",
       "      <td>lamp_final</td>\n",
       "      <td>67</td>\n",
       "      <td>67</td>\n",
       "      <td>0.67</td>\n",
       "    </tr>\n",
       "    <tr>\n",
       "      <th>92666</th>\n",
       "      <td>30888</td>\n",
       "      <td>100</td>\n",
       "      <td>lamp_final</td>\n",
       "      <td>84</td>\n",
       "      <td>84</td>\n",
       "      <td>0.84</td>\n",
       "    </tr>\n",
       "    <tr>\n",
       "      <th>95012</th>\n",
       "      <td>31670</td>\n",
       "      <td>100</td>\n",
       "      <td>lamp_final</td>\n",
       "      <td>83</td>\n",
       "      <td>83</td>\n",
       "      <td>0.83</td>\n",
       "    </tr>\n",
       "    <tr>\n",
       "      <th>121931</th>\n",
       "      <td>40643</td>\n",
       "      <td>100</td>\n",
       "      <td>mug_final</td>\n",
       "      <td>24</td>\n",
       "      <td>24</td>\n",
       "      <td>0.24</td>\n",
       "    </tr>\n",
       "    <tr>\n",
       "      <th>45155</th>\n",
       "      <td>15051</td>\n",
       "      <td>100</td>\n",
       "      <td>chair_final</td>\n",
       "      <td>37</td>\n",
       "      <td>37</td>\n",
       "      <td>0.37</td>\n",
       "    </tr>\n",
       "    <tr>\n",
       "      <th>72512</th>\n",
       "      <td>24170</td>\n",
       "      <td>100</td>\n",
       "      <td>fan_final</td>\n",
       "      <td>65</td>\n",
       "      <td>65</td>\n",
       "      <td>0.65</td>\n",
       "    </tr>\n",
       "    <tr>\n",
       "      <th>35222</th>\n",
       "      <td>11740</td>\n",
       "      <td>100</td>\n",
       "      <td>chair_final</td>\n",
       "      <td>36</td>\n",
       "      <td>36</td>\n",
       "      <td>0.36</td>\n",
       "    </tr>\n",
       "  </tbody>\n",
       "</table>\n",
       "</div>"
      ],
      "text/plain": [
       "        test_index  level    super_class  orig_correct_count  \\\n",
       "78947        26315    100   kettle_final                  26   \n",
       "94283        31427    100     lamp_final                 100   \n",
       "176585       58861    100  toaster_final                  38   \n",
       "88778        29592    100     lamp_final                  67   \n",
       "92666        30888    100     lamp_final                  84   \n",
       "95012        31670    100     lamp_final                  83   \n",
       "121931       40643    100      mug_final                  24   \n",
       "45155        15051    100    chair_final                  37   \n",
       "72512        24170    100      fan_final                  65   \n",
       "35222        11740    100    chair_final                  36   \n",
       "\n",
       "        rerank_correct_count  orig_r_precision  \n",
       "78947                     26              0.26  \n",
       "94283                    100              1.00  \n",
       "176585                    38              0.38  \n",
       "88778                     67              0.67  \n",
       "92666                     84              0.84  \n",
       "95012                     83              0.83  \n",
       "121931                    24              0.24  \n",
       "45155                     37              0.37  \n",
       "72512                     65              0.65  \n",
       "35222                     36              0.36  "
      ]
     },
     "execution_count": 22,
     "metadata": {},
     "output_type": "execute_result"
    }
   ],
   "source": [
    "df.loc[df.level == 100].sample(10)"
   ]
  },
  {
   "cell_type": "code",
   "execution_count": 30,
   "metadata": {},
   "outputs": [
    {
     "data": {
      "text/plain": [
       "(60502, 1000)"
      ]
     },
     "execution_count": 30,
     "metadata": {},
     "output_type": "execute_result"
    }
   ],
   "source": [
    "orig_nn_path = './RerankingTransformer/RRT_SOP/rrt_sop_caches/rrt_r50_sop_nn_inds_test.pkl'\n",
    "\n",
    "test = pickle.load(open(orig_nn_path, 'rb'))\n",
    "test.shape\n"
   ]
  },
  {
   "cell_type": "code",
   "execution_count": 32,
   "metadata": {},
   "outputs": [
    {
     "data": {
      "text/plain": [
       "array([  965,   963,   966,   964,  1060,   893,   565,   530,   532,\n",
       "         528,  1370,   894,  1035,  1037,   895,  1036,   932,  2008,\n",
       "           3,   931,  1346,     4,   898,  1032,   509,  1359,  1369,\n",
       "         897,    32,    30,  1371,    36,  1361,    34,    33,   901,\n",
       "        1348,  2699,  2698,  2700,   902,  1344,  1390,  1033,  2648,\n",
       "        1405,  1345,  2006,   564,   820,  1684, 46547,  1029,  1028,\n",
       "        1703,  2010,  2011,  2009,  1362,   120,  1993,  1323,    31,\n",
       "          37,     1,  1704,  1322,   821, 48272,  1278,     2,   512,\n",
       "         566,  2442,  1702,   921,   100,  1180,  2528,   516,  2007,\n",
       "        1436,  1349,  1273,  1347,   823,   307,  1351,   899,   531,\n",
       "         529,   896,   508,   515,  1030,  1027,   102,  1023,   961,\n",
       "         955,   959,   957,   953,   951,  2651,   900,  2043,  1435,\n",
       "          27,    29,    26,    28, 24991,   905,   607,   616,  2250,\n",
       "         510,   216,   103,  1406,  1327,  1391,  2664,   540,   538,\n",
       "         542,  1991,   527,     9,  1034,  1031,     8,   958,   956,\n",
       "         962,   952,   954,   960,  1274,     7,    10,  1437,  1353,\n",
       "        1360,  1392,    11,   929,  2262,  1358,  1685,  1357,  1328,\n",
       "        1321,  2417, 45330,  2752,   121,  2526,  2255,   904,  1275,\n",
       "        1442,  2709,  1373,   101, 22613,  1276,  1244,  2289,   930,\n",
       "         919,  1813, 49193,  2046,   526,   309,   511,   517,  2850,\n",
       "        1717,  2641,  1352, 42908,  2650,   609,   513,  1439,  1686,\n",
       "         514,  2480, 47821, 15495,  3233,   972,  3232,  2530,  2710,\n",
       "        2044,   920,  1671, 20462,  1325,  1241,    16, 15496,   567,\n",
       "          13, 21396,   608,  1047, 15494,  1438, 48775,  1253, 43548,\n",
       "       43551,  1222,  1727,  1729,  1728,   946, 36667, 45700, 21926,\n",
       "           6, 42906,   945, 45104,   942,   935,   937,   940,  1021,\n",
       "        1019, 45993,  1277,   943,   938,   933,   936,  1018,   525,\n",
       "       37938, 45101, 10155,    15,  1126, 47457, 14038, 14048, 14044,\n",
       "       49525,  2377,  3128,     5,  2004,  1404,  1372, 22337, 22389,\n",
       "       23061,  2565, 12752,   539,  1356, 22510, 45102, 31634,   824,\n",
       "        1326,   541, 43132, 43126,  1969,    12, 37508,  4604, 31126,\n",
       "        3138,  1254, 16256,  2001,  2038,  1376,  2793, 22957,  1668,\n",
       "        2694,  3261,  1403,  2891,  8361,   855,   890,  1247,   822,\n",
       "       20460,  8083, 50087, 50088,  8367,  2290,  1368,  2562, 42907,\n",
       "        2477,  3223,  2851, 51061, 44688,  1017,  3764,  1324,  1395,\n",
       "       15497, 22809,  1990, 52569,  2853,  2692, 43590, 21724,  2695,\n",
       "        1718,  2792,  3121, 18374, 24613, 43520,   663,  1393,    23,\n",
       "        2697,  2645, 23352,  2852,  2446,  2258,  1989, 44860,  1333,\n",
       "         599, 50393, 32935, 42885, 42888,   368, 14659, 23460,   906,\n",
       "        1320,  1441, 27143,   214,  6273,  6275, 45338,  1136,  2486,\n",
       "         998,   611,  7065,   891, 48028, 13670,  2791,  1183,    88,\n",
       "       43914, 59462, 23023, 24990, 54328,   664, 32574, 43518,  5464,\n",
       "        2782, 15111, 45440, 45439,  2199,  2045, 23781,  2559,   903,\n",
       "       22610, 33770,  1999, 39224,  1020,  1902, 47888, 41239, 21694,\n",
       "       40523, 49680, 41012, 46517,  5404, 20359, 43913,  1367, 24245,\n",
       "       53305,  1166, 42934, 42930, 42938, 42940, 42936, 42932, 17383,\n",
       "       48274, 23848, 13504, 22137,  1332, 13877, 44376,   215, 43141,\n",
       "        1243,  1694,  2291,    35,  3701, 12751,   969, 48273,  5463,\n",
       "        2411,  1242, 41240,  8363, 55445,   665, 50379, 43521, 13505,\n",
       "       43353, 53691,  5321,  8364,   563, 26494, 26491,    14, 45438,\n",
       "       45437, 43140,  2447,  1043,   537, 22616,  4605,  2598, 42935,\n",
       "       42939, 42937, 42931, 42933, 42929, 42887, 31499,  7633,  7626,\n",
       "       43522,  5462,  4097,  5305,  2498, 56100,   369, 45249, 44099,\n",
       "        2381, 47811, 44243, 44245, 45336, 52501, 59321, 44859,   365,\n",
       "        1065,  4418,   533,   536,  1303,  2693, 41415, 44861, 44355,\n",
       "       49728, 27526,  2410,  4256, 36578, 21365,  3234, 22386, 38902,\n",
       "        2468,  1825, 50419, 21622, 43761, 45318,   662, 19078, 45760,\n",
       "       43313, 43314, 44687,  3706, 56271, 44439,   661,   659,   660,\n",
       "       48774, 12973, 44437,  2437, 43550, 43547,  2689,  5240, 43519,\n",
       "         560, 42678,  4099, 42886,  2687, 30494, 50382, 20978,  2257,\n",
       "        1000,  2444, 44430,  2881, 23137, 42674, 13867,  2494, 60349,\n",
       "       36666,   766, 23714, 42878, 49530,  2527, 49336, 23548,  4682,\n",
       "       32372, 44354, 31567,  1300,  8569, 57865, 28097,   490,  1302,\n",
       "       22728, 22724,  2035,  2490, 37506, 21720,  2399, 49505, 31633,\n",
       "       31636, 22107,  1407,  6274,  6272, 42676, 22614, 15760, 43876,\n",
       "       43875, 43881, 43874, 43882, 43879, 43877, 43880, 43883, 43878,\n",
       "       40188, 14657, 45616, 19928, 30610, 30612, 30607, 30285, 37939,\n",
       "        7635,  2443,   366, 36670, 12013, 41243, 42050,  2536, 40186,\n",
       "       45332, 22320,  2200,  1824,  2794, 56925,  4603,  1377,   561,\n",
       "         707, 44429,  2432, 48275, 24220, 23817, 46551, 53435, 27163,\n",
       "         534, 45631,   847, 12753, 34261, 23682,  1851, 29707, 49527,\n",
       "       38173, 44857,  1350, 37086, 45867, 45866, 45869, 45868, 15774,\n",
       "        1826, 42682, 12042, 33034,  5345,  5351, 49194,  1130, 41063,\n",
       "       26500, 21865, 15781, 45544, 19344, 41242, 45606, 15216, 43466,\n",
       "        1994, 22432,  2273, 13669, 16322, 21284,  2854, 45258, 47040,\n",
       "       54329, 54263, 23552,  2261, 22216,   613, 20461, 13668,  2572,\n",
       "       11490,  3619,  1182, 23057, 45633,  3150,  1025,  3558, 38270,\n",
       "        5322, 43884,  2797, 43546, 43549, 41894,  6087, 57868, 45635,\n",
       "       15772,  4870, 19431, 43468, 39319,  2696,  1374,   992,   993,\n",
       "         994,   995, 58685,  1364, 17568, 40630,  1681,  6705, 44438,\n",
       "       21732,  1447, 45337,   723, 42880,  2798,  1330, 39292,  5375,\n",
       "       60420, 35363, 43593, 43589,  2690, 58229, 43890, 54397, 16552,\n",
       "       51954,   520,  1988,  1996, 36367, 22726, 13671, 32998, 39715,\n",
       "        1741,  8254,  2541,    84, 19091, 19090, 19092, 38900,   155,\n",
       "         996, 57869,  2546,  5269,  4022,  1299, 48498,  2000,   612,\n",
       "        2450, 22659, 37510, 23843, 44450,  1720,  1621,  1904, 19644,\n",
       "       21725, 32933, 43139,   160,  1576, 22219,   562, 48641,   105,\n",
       "       21730, 22731, 36076,   881,  1577, 42863, 14027,  3515,  2378,\n",
       "       22151, 43047,   889, 43528, 40643, 45252, 43912,  4091, 41451,\n",
       "       13484, 28886, 40836,  7625,  2688, 34603, 37213, 14807,  2584,\n",
       "       13993, 49688, 36538, 49841, 45682, 15761, 21414, 36669, 23461,\n",
       "       44766, 44772, 44769, 18691, 53307,  1394,   367,  4420, 50079,\n",
       "       22607,  1451, 27733, 25438,  1129, 45335, 52539, 23811,  5241,\n",
       "       27049, 38683, 49359,  1329, 43739, 15785, 40909,  4421, 44856,\n",
       "       42422, 43986, 43988, 43990, 43992,   848, 46602,  2439,  1683,\n",
       "       49415, 35153, 21362,   154, 35735, 56679, 48497,  2691,  2646,\n",
       "       29621,  2489, 23327, 23331, 23325, 23326, 23329, 23328, 23330,\n",
       "       23333, 23332, 23335, 23336, 23334,  1637,  2470, 23551, 45378,\n",
       "       23547,  1375, 37512, 50259,  5290, 46611,  1181,  2448, 49358,\n",
       "       44493,  2576, 45853, 43462, 53434,  4687,  2749, 39550, 12955,\n",
       "       45702,  1125, 45545,    38, 44440, 42242, 45992, 16553, 60259,\n",
       "       22140, 14853, 45341, 41893, 24269,  2879, 58220, 14766, 22132,\n",
       "       39291, 43753, 24800, 40961,  2542, 39955, 12431, 47085, 45577,\n",
       "        4098,  8252,  2676,  2675,  2674,  2680,  2679,  2678,  2682,\n",
       "        2684,  2683,  2681,  2677,  2685,   559,  2472, 31563, 22612,\n",
       "       45408, 42994, 23825, 48492, 17384,  4092, 53703, 33350, 39287,\n",
       "       41510, 39390, 51482, 48493, 38402, 45251,   849, 39957, 42783,\n",
       "        1625, 43530, 22422, 40629, 25586, 47506, 28888,  2416, 41892,\n",
       "       43539, 44494, 54021, 51045, 36621,  4684, 39686, 11488, 40456,\n",
       "        1725,  1724,  1726, 44272,  4102,  2564,  2872, 23849, 41492,\n",
       "         163,  1923,  1206, 34139, 23722,  1722, 32951,  2702, 46694,\n",
       "        3740])"
      ]
     },
     "execution_count": 32,
     "metadata": {},
     "output_type": "execute_result"
    }
   ],
   "source": [
    "test[0,]"
   ]
  }
 ],
 "metadata": {
  "kernelspec": {
   "display_name": "Python 3",
   "language": "python",
   "name": "python3"
  },
  "language_info": {
   "codemirror_mode": {
    "name": "ipython",
    "version": 3
   },
   "file_extension": ".py",
   "mimetype": "text/x-python",
   "name": "python",
   "nbconvert_exporter": "python",
   "pygments_lexer": "ipython3",
   "version": "3.6.13"
  }
 },
 "nbformat": 4,
 "nbformat_minor": 4
}
